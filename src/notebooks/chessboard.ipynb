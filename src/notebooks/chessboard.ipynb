{
 "cells": [
  {
   "attachments": {},
   "cell_type": "markdown",
   "metadata": {},
   "source": [
    "## Example how the chessboard distance is computed\n",
    "\n",
    "This notebook show the workflow of the chessboard-distance metric for two different example data sets of (Intel D405 and ZED-min)."
   ]
  },
  {
   "cell_type": "code",
   "execution_count": null,
   "metadata": {},
   "outputs": [],
   "source": [
    "# load submodule in parent directory\n",
    "import os\n",
    "import sys\n",
    "module_path = os.path.abspath(os.path.join('..'))\n",
    "if module_path not in sys.path:\n",
    "    sys.path.append(module_path)"
   ]
  },
  {
   "cell_type": "code",
   "execution_count": null,
   "metadata": {},
   "outputs": [],
   "source": [
    "# load dependencies\n",
    "import cv2\n",
    "import open3d as o3d\n",
    "\n",
    "import numpy as np\n",
    "import pandas as pd\n",
    "\n",
    "import matplotlib as mpl\n",
    "import matplotlib.pyplot as plt\n",
    "\n",
    "from inout import bag_reader,svo_reader\n",
    "\n",
    "mpl.rcParams['figure.dpi']= 100"
   ]
  },
  {
   "attachments": {},
   "cell_type": "markdown",
   "metadata": {},
   "source": [
    "Extract the images(.png) and 3D data as point-cloud(.ply) from the camera recording files, such as .bag for intel cameras and .svo for stereolabs cameras.\n",
    "\n",
    "For the example the files are extracted and saved."
   ]
  },
  {
   "cell_type": "code",
   "execution_count": null,
   "metadata": {},
   "outputs": [],
   "source": [
    "# bag-file \n",
    "data_path = \"DATA_DIR_PATH\" # adjust to the directory to the your data-path\n",
    "file_name = \"FILE_NAME.bag\" # adjust to the file name you want to load\n",
    "distance_mm = 160 # adjust ground truth distance\n",
    "depth_list,image_list = bag_reader.extract_frames(os.path.join(data_path,file_name),None,1,distance_mm)"
   ]
  },
  {
   "cell_type": "code",
   "execution_count": null,
   "metadata": {},
   "outputs": [],
   "source": [
    "# checker board settings\n",
    "chessboard_shape = (8,10) # (height, width)\n",
    "square_size = 7 # in mm"
   ]
  },
  {
   "attachments": {},
   "cell_type": "markdown",
   "metadata": {},
   "source": [
    "Load image and detect chessboard corners"
   ]
  },
  {
   "cell_type": "code",
   "execution_count": null,
   "metadata": {},
   "outputs": [],
   "source": [
    "image = image_list[0]\n",
    "plt.imshow(image)"
   ]
  },
  {
   "cell_type": "code",
   "execution_count": null,
   "metadata": {},
   "outputs": [],
   "source": [
    "image_grey = cv2.cvtColor(image, cv2.COLOR_RGB2GRAY)\n",
    "ret, corners = cv2.findChessboardCorners(image_grey, chessboard_shape, None)\n",
    "corners = corners.squeeze()\n",
    "image_grey.shape"
   ]
  },
  {
   "cell_type": "code",
   "execution_count": null,
   "metadata": {},
   "outputs": [],
   "source": [
    "i = 0\n",
    "# corners = corners[::-1]\n",
    "if ret:\n",
    "    draw_points = cv2.drawChessboardCorners(image.copy(),chessboard_shape,corners,ret)\n",
    "    for corner in corners:\n",
    "        pos = (int(corner[0]),int(corner[1]))\n",
    "        draw_points = cv2.putText(draw_points,str(i),pos,0,0.5,(0,0,0))\n",
    "        i += 1\n",
    "    plt.imshow(draw_points)\n",
    "    print(corners.shape)"
   ]
  },
  {
   "attachments": {},
   "cell_type": "markdown",
   "metadata": {},
   "source": [
    "## Load 3D representation"
   ]
  },
  {
   "cell_type": "code",
   "execution_count": null,
   "metadata": {},
   "outputs": [],
   "source": [
    "pcd = o3d.geometry.PointCloud()\n",
    "\n",
    "depth = depth_list[0]\n",
    "points = np.nan_to_num(depth).reshape(-1,3)\n",
    "pcd.points = o3d.utility.Vector3dVector(points)\n",
    "\n",
    "o3d.visualization.draw_geometries([pcd])"
   ]
  },
  {
   "cell_type": "code",
   "execution_count": null,
   "metadata": {},
   "outputs": [],
   "source": [
    "point_3d = list()\n",
    "point_2d = list()\n",
    "\n",
    "if ret:\n",
    "    for corner in corners:\n",
    "        pos = (int(corner[1]),int(corner[0]))\n",
    "        point_2d.append(pos)\n",
    "\n",
    "        if depth[pos].all() != 0.:\n",
    "            point_3d.append(depth[pos])\n",
    "        else:\n",
    "            point_3d.append(np.array([0.,0.,0.]))\n",
    "            \n",
    "\n",
    "# save original point\n",
    "org_point_2d = np.array(point_2d)\n",
    "org_point_3d = np.array(point_3d)\n",
    "# reshape to chessboard size\n",
    "point_3d = np.array(point_3d).reshape((chessboard_shape[1],chessboard_shape[0],3))\n",
    "point_2d = np.array(point_2d).reshape((chessboard_shape[1],chessboard_shape[0],2))\n",
    "\n",
    "# show example point here to see the right scaling and\n",
    "# check it the resize end in the same point as original points\n",
    "print(org_point_2d[1],org_point_3d[1])\n",
    "point_2d[0][1],point_3d[0][1]"
   ]
  },
  {
   "cell_type": "code",
   "execution_count": null,
   "metadata": {},
   "outputs": [],
   "source": [
    "pcd = o3d.geometry.PointCloud()\n",
    "\n",
    "# show the selected/valid points of the chessboard in 3D\n",
    "pcd.points = o3d.utility.Vector3dVector(org_point_3d)\n",
    "o3d.visualization.draw_geometries([pcd])"
   ]
  },
  {
   "cell_type": "code",
   "execution_count": null,
   "metadata": {},
   "outputs": [],
   "source": [
    "test_image = image.copy()\n",
    "\n",
    "distance_list = list()\n",
    "draw_c = 0\n",
    "\n",
    "for i in range(len(point_3d)):\n",
    "  for j in range(len(point_3d[0])-1):\n",
    "     point_a = point_3d[i][j]\n",
    "     point_b = point_3d[i][j+1]\n",
    "\n",
    "     if point_a.all() != 0. and point_b.all() != 0.:\n",
    "        dist = np.linalg.norm(point_a-point_b)\n",
    "        distance_list.append(abs(dist-square_size))\n",
    "\n",
    "        img_post_01 = (int(point_2d[i][j][1]),int(point_2d[i][j][0]))\n",
    "        img_post_02 = (int(point_2d[i][j+1][1]),int(point_2d[i][j+1][0]))\n",
    "\n",
    "        test_image = cv2.line(test_image,img_post_01,img_post_02,(69, 252, 3),2)\n",
    "\n",
    "        draw_c += 2\n",
    "\n",
    "\n",
    "for j in range(len(point_3d[0])):\n",
    "   for i in range(len(point_3d)-1):\n",
    "       point_a = point_3d[i][j]\n",
    "       point_b = point_3d[i+1][j]\n",
    "       \n",
    "       if point_a.all() != 0. and point_b.all() != 0.:\n",
    "          dist = np.linalg.norm(point_a-point_b)\n",
    "          distance_list.append(abs(dist-square_size))\n",
    "          img_post_01 = (int(point_2d[i][j][1]),int(point_2d[i][j][0]))\n",
    "          img_post_02 = (int(point_2d[i+1][j][1]),int(point_2d[i+1][j][0]))\n",
    "\n",
    "          test_image = cv2.line(test_image,img_post_01,img_post_02,(252, 165, 3),2)\n",
    "          draw_c += 2\n",
    "\n",
    "distance = np.array(distance_list)\n",
    "_ = plt.imshow(test_image,)"
   ]
  },
  {
   "cell_type": "code",
   "execution_count": null,
   "metadata": {},
   "outputs": [],
   "source": [
    "chess_distance = np.array(distance_list) # in mm\n",
    "pd.DataFrame(chess_distance,columns=['Checker_distance']).describe()"
   ]
  }
 ],
 "metadata": {
  "kernelspec": {
   "display_name": "master_thesi",
   "language": "python",
   "name": "python3"
  },
  "language_info": {
   "codemirror_mode": {
    "name": "ipython",
    "version": 3
   },
   "file_extension": ".py",
   "mimetype": "text/x-python",
   "name": "python",
   "nbconvert_exporter": "python",
   "pygments_lexer": "ipython3",
   "version": "3.7.12"
  },
  "orig_nbformat": 4
 },
 "nbformat": 4,
 "nbformat_minor": 2
}
