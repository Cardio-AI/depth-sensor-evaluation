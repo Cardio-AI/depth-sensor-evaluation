{
 "cells": [
  {
   "cell_type": "code",
   "execution_count": null,
   "metadata": {},
   "outputs": [],
   "source": [
    "import os\n",
    "import sys\n",
    "module_path = os.path.abspath(os.path.join('..'))\n",
    "if module_path not in sys.path:\n",
    "    sys.path.append(module_path)"
   ]
  },
  {
   "cell_type": "code",
   "execution_count": null,
   "metadata": {},
   "outputs": [],
   "source": [
    "from metrics.helper_function import calc_ROI,remove_invalid_values\n",
    "from metrics import fillrate,temporalNoise,planeTest\n",
    "from inout import bag_reader\n",
    "from inout import svo_reader\n",
    "\n",
    "import numpy as np\n",
    "import open3d as o3d\n",
    "import matplotlib.pyplot as plt"
   ]
  },
  {
   "cell_type": "markdown",
   "metadata": {},
   "source": [
    "## Configs"
   ]
  },
  {
   "cell_type": "code",
   "execution_count": null,
   "metadata": {},
   "outputs": [],
   "source": [
    "# bag-file \n",
    "data_path = \"DATA_DIR_PATH\" # adjust to the directory to the your data-path\n",
    "file_name = \"FILE_NAME.bag\" # adjust to the file name you want to load\n",
    "distance_mm = 160 # adjust ground truth distance\n",
    "depth_list,image_list = bag_reader.extract_frames(os.path.join(data_path,file_name),None,2,distance_mm)"
   ]
  },
  {
   "cell_type": "code",
   "execution_count": null,
   "metadata": {},
   "outputs": [],
   "source": [
    "depth = calc_ROI(depth_list[0])\n",
    "\n",
    "pcd = o3d.geometry.PointCloud()\n",
    "depth_valid = depth.reshape((-1,3))\n",
    "depth_valid = remove_invalid_values(depth_valid)\n",
    "print(depth_valid.shape)\n",
    "# show the selected/valid points of the chessboard in 3D\n",
    "pcd.points = o3d.utility.Vector3dVector(depth_valid)\n",
    "o3d.visualization.draw_geometries([pcd])"
   ]
  },
  {
   "cell_type": "markdown",
   "metadata": {},
   "source": [
    "## Fillrate\n",
    "\n",
    "Percentage of “valid” (w/non-zero depth) pixels over ROI \n"
   ]
  },
  {
   "cell_type": "code",
   "execution_count": null,
   "metadata": {},
   "outputs": [],
   "source": [
    "z = depth[:,:,-1]\n",
    "# count invalid values decoded as nan\n",
    "print(\"Total values\",z.size)\n",
    "print(\"Valid values\",np.sum(~(np.isnan(z))))\n",
    "\n",
    "# count invalid vales by min max filtering\n",
    "print(\"Point-cloud values:\",z.size-np.sum(np.isnan(z)))\n",
    "print(\"Point-cloud invalid values:\",np.sum((z==0.)))\n",
    "\n",
    "np.sum(~(np.isnan(z))) / z.size"
   ]
  },
  {
   "cell_type": "code",
   "execution_count": null,
   "metadata": {},
   "outputs": [],
   "source": [
    "fillrate.fillrate(depth_list)"
   ]
  },
  {
   "cell_type": "markdown",
   "metadata": {},
   "source": [
    "## Temporal noise\n",
    "\n",
    "Variation in depth per pixel over time (frame-to-frame).\n"
   ]
  },
  {
   "cell_type": "code",
   "execution_count": null,
   "metadata": {},
   "outputs": [],
   "source": [
    "# count invalid values decoded as nan\n",
    "depth_list_valid = [np.nan_to_num(depth[:,:,-1]) for depth in depth_list]\n",
    "# cut the ROI\n",
    "depth_list_roi = np.array([abs(calc_ROI(depth)) for depth in depth_list_valid])\n",
    "# remove invalid values\n",
    "depth_list_roi_valid =  np.ma.masked_equal(depth_list_roi,0)\n",
    "\n",
    "std_matrix = np.std(depth_list_roi_valid,0)\n",
    "print(std_matrix.shape)\n",
    "\n",
    "print(\"Temporal noise:\",np.average(std_matrix))\n",
    "plt.imshow(std_matrix,cmap='coolwarm')"
   ]
  },
  {
   "cell_type": "code",
   "execution_count": null,
   "metadata": {},
   "outputs": [],
   "source": [
    "temporalNoise.get_tempNoise(depth_list)"
   ]
  },
  {
   "cell_type": "markdown",
   "metadata": {},
   "source": [
    "## Z-accuracy\n",
    "\n",
    "Offset of mean/median depth from ground truth. For more detail information see on the [IntelRealsense page](https://github.com/IntelRealSense/librealsense/tree/master/tools/depth-quality#z-accuracy).\n",
    "\n",
    "* $PlanesOffset_{mm}$ - Distance (signed) from the Fitted to the Ground Truth planes (mm)\n",
    "* $Di$ - Distance (signed) from a depth vertex to the Fitted Plane (mm)\n",
    "* $D^{'}_i$ - Z-error: Distance (signed) from the rotated Di coordinate to the Ground Truth Plane (mm)\n",
    "* $GT$ - Ground Truth distance to the wall (mm)\n",
    "\n",
    "$$ D^{'}_{mm} = D_i - PlanesOffset_{mm} $$\n",
    "\n",
    "$$ Z - Accuracy =  100 \\times median({ \\sum_{1}^n (D^{'}_i - GT) \\over GT}) $$\n",
    "\n",
    "Note that to compare the ground truth distance to the measured depth, the offset between the camera's optical center and the case must be added."
   ]
  },
  {
   "cell_type": "code",
   "execution_count": null,
   "metadata": {},
   "outputs": [],
   "source": [
    "a, b, c, d = planeTest.plane_fit(depth_valid)\n",
    "print(f\"The plane equation of plane_fit is {a:.2f}x + {b:.2f}y + {c:.2f}z = {d:.2f}\")\n",
    "a, b, c, d = planeTest.plane_from_points(depth_valid)\n",
    "print(f\"The plane equation of fast plane_fit is {a:.2f}x + {b:.2f}y + {c:.2f}z = {d:.2f}\")"
   ]
  },
  {
   "cell_type": "code",
   "execution_count": null,
   "metadata": {},
   "outputs": [],
   "source": [
    "planeTest.get_Z_accuracy(depth_list,distance_mm)"
   ]
  },
  {
   "cell_type": "markdown",
   "metadata": {},
   "source": [
    "## Chessboard-distance\n",
    "\n",
    "For the chessboard distance check the [chessboard.ipynb](./chessboard.ipynb) notebook."
   ]
  }
 ],
 "metadata": {
  "kernelspec": {
   "display_name": "master_thesi",
   "language": "python",
   "name": "python3"
  },
  "language_info": {
   "codemirror_mode": {
    "name": "ipython",
    "version": 3
   },
   "file_extension": ".py",
   "mimetype": "text/x-python",
   "name": "python",
   "nbconvert_exporter": "python",
   "pygments_lexer": "ipython3",
   "version": "3.7.12"
  },
  "orig_nbformat": 4
 },
 "nbformat": 4,
 "nbformat_minor": 2
}
